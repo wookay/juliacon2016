{
 "cells": [
  {
   "cell_type": "markdown",
   "metadata": {
    "collapsed": true
   },
   "source": [
    "# https://github.com/wookay/Swifter.jl\n",
    "\n",
    "- REPL: Greetings! 你好! 안녕하세요?\n",
    "- http://docs.julialang.org/en/latest/manual/getting-started/\n",
    "\n",
    "- REPL: ?initial, ?@query\n",
    "\n",
    "- REPL: query mode (>)"
   ]
  },
  {
   "cell_type": "code",
   "execution_count": 1,
   "metadata": {
    "collapsed": false
   },
   "outputs": [],
   "source": [
    "using Swifter"
   ]
  },
  {
   "cell_type": "code",
   "execution_count": 2,
   "metadata": {
    "collapsed": false
   },
   "outputs": [
    {
     "data": {
      "text/markdown": [
       "```\n",
       "<ViewController.ViewController: 0x7f9119439c50>\n",
       "```\n"
      ],
      "text/plain": [
       "<ViewController.ViewController: 0x7f9119439c50>"
      ]
     },
     "execution_count": 2,
     "metadata": {},
     "output_type": "execute_result"
    }
   ],
   "source": [
    "# create an endpoint for simulator\n",
    "\n",
    "simul = initial(\"http://localhost:8080\")"
   ]
  },
  {
   "cell_type": "code",
   "execution_count": 3,
   "metadata": {
    "collapsed": false
   },
   "outputs": [
    {
     "data": {
      "text/markdown": [
       "```\n",
       "<ViewController.ViewController: 0x1575a15c0>\n",
       "```\n"
      ],
      "text/plain": [
       "<ViewController.ViewController: 0x1575a15c0>"
      ]
     },
     "execution_count": 3,
     "metadata": {},
     "output_type": "execute_result"
    }
   ],
   "source": [
    "# create an endpoint for iphone\n",
    "\n",
    "iphone = initial(\"http://iphone:8080\")"
   ]
  },
  {
   "cell_type": "code",
   "execution_count": 4,
   "metadata": {
    "collapsed": false
   },
   "outputs": [
    {
     "data": {
      "text/markdown": [
       "```\n",
       "Hello World\n",
       "```\n"
      ],
      "text/plain": [
       "\"Hello World\""
      ]
     },
     "execution_count": 4,
     "metadata": {},
     "output_type": "execute_result"
    }
   ],
   "source": [
    "# change the label of text\n",
    "\n",
    "@query simul.label.text = \"Greetings!\"\n",
    "@query iphone.label.text = \"Hello World\""
   ]
  },
  {
   "cell_type": "code",
   "execution_count": 5,
   "metadata": {
    "collapsed": false
   },
   "outputs": [
    {
     "data": {
      "text/markdown": [
       "```\n",
       "UIDeviceRGBColorSpace 1 0.5 0 1\n",
       "```\n"
      ],
      "text/plain": [
       "UIDeviceRGBColorSpace 1 0.5 0 1"
      ]
     },
     "execution_count": 5,
     "metadata": {},
     "output_type": "execute_result"
    }
   ],
   "source": [
    "# change the background color\n",
    "# simulator - cyan\n",
    "# iphone - orange\n",
    "\n",
    "@query simul.label.backgroundColor = UIColor.cyanColor()\n",
    "@query iphone.label.backgroundColor = UIColor.orangeColor()"
   ]
  },
  {
   "cell_type": "code",
   "execution_count": 6,
   "metadata": {
    "collapsed": false
   },
   "outputs": [
    {
     "data": {
      "text/markdown": [
       "```\n",
       "<UILabel: 0x7f91194408b0; frame = (10 100; 500 200); text = 'Greetings!'; opaque = NO; autoresize = RM+BM; userInteractionEnabled = NO; layer = <_UILabelLayer: 0x7f9119440ba0>>\n",
       "```\n",
       "<img src=\"images/0x7f9119439c50.label-alw6toynZg.png?r&#61;alw6toynZg\" alt=\"0x7f9119439c50.label\" style=\"width:250.0px; height: 100.0px;\" />"
      ],
      "text/plain": [
       "<UILabel: 0x7f91194408b0; frame = (10 100; 500 200); text = 'Greetings!'; opaque = NO; autoresize = RM+BM; userInteractionEnabled = NO; layer = <_UILabelLayer: 0x7f9119440ba0>>"
      ]
     },
     "execution_count": 6,
     "metadata": {},
     "output_type": "execute_result"
    }
   ],
   "source": [
    "# get the label of simulator\n",
    "\n",
    "@query simul.label"
   ]
  },
  {
   "cell_type": "code",
   "execution_count": 7,
   "metadata": {
    "collapsed": false
   },
   "outputs": [
    {
     "data": {
      "text/markdown": [
       "&lt;UILabel: 0x7f91194408b0; frame = (10 100; 500 200); text = 'Greetings!'; opaque = NO; autoresize = RM+BM; userInteractionEnabled = NO; layer = &lt;_UILabelLayer: 0x7f9119440ba0&gt;&gt;<img src=\"images/0x7f91194408b0-fUcnu88kNb.png?r&#61;fUcnu88kNb\" alt=\"0x7f91194408b0\" style=\"width:250.0px; height: 100.0px;\" />&lt;UILabel: 0x157659840; frame = (10 100; 500 200); text = 'Hello World'; opaque = NO; autoresize = RM+BM; userInteractionEnabled = NO; layer = &lt;_UILabelLayer: 0x157659dd0&gt;&gt;<img src=\"images/0x157659840-ngA5HsAr7I.png?r&#61;ngA5HsAr7I\" alt=\"0x157659840\" style=\"width:250.0px; height: 100.0px;\" />"
      ],
      "text/plain": [
       "2-element Array{Swifter.QueryResult,1}:\n",
       " <UILabel: 0x7f91194408b0; frame = (10 100; 500 200); text = 'Greetings!'; opaque = NO; autoresize = RM+BM; userInteractionEnabled = NO; layer = <_UILabelLayer: 0x7f9119440ba0>>\n",
       " <UILabel: 0x157659840; frame = (10 100; 500 200); text = 'Hello World'; opaque = NO; autoresize = RM+BM; userInteractionEnabled = NO; layer = <_UILabelLayer: 0x157659dd0>>     "
      ]
     },
     "execution_count": 7,
     "metadata": {},
     "output_type": "execute_result"
    }
   ],
   "source": [
    "# arrays of @query\n",
    "\n",
    "[@query(simul.label), @query(iphone.label)]"
   ]
  },
  {
   "cell_type": "code",
   "execution_count": 8,
   "metadata": {
    "collapsed": false
   },
   "outputs": [
    {
     "data": {
      "text/markdown": [
       "&lt;UILabel: 0x7f91194408b0; frame = (10 100; 500 200); text = 'Greetings!'; opaque = NO; autoresize = RM+BM; userInteractionEnabled = NO; layer = &lt;_UILabelLayer: 0x7f9119440ba0&gt;&gt;<img src=\"images/0x7f91194408b0-XPptl6sD88.png?r&#61;XPptl6sD88\" alt=\"0x7f91194408b0\" style=\"width:250.0px; height: 100.0px;\" />&lt;UILabel: 0x157659840; frame = (10 100; 500 200); text = 'Hello World'; opaque = NO; autoresize = RM+BM; userInteractionEnabled = NO; layer = &lt;_UILabelLayer: 0x157659dd0&gt;&gt;<img src=\"images/0x157659840-rQnhXGz6ZW.png?r&#61;rQnhXGz6ZW\" alt=\"0x157659840\" style=\"width:250.0px; height: 100.0px;\" />"
      ],
      "text/plain": [
       "2-element Array{Swifter.QueryResult,1}:\n",
       " <UILabel: 0x7f91194408b0; frame = (10 100; 500 200); text = 'Greetings!'; opaque = NO; autoresize = RM+BM; userInteractionEnabled = NO; layer = <_UILabelLayer: 0x7f9119440ba0>>\n",
       " <UILabel: 0x157659840; frame = (10 100; 500 200); text = 'Hello World'; opaque = NO; autoresize = RM+BM; userInteractionEnabled = NO; layer = <_UILabelLayer: 0x157659dd0>>     "
      ]
     },
     "execution_count": 8,
     "metadata": {},
     "output_type": "execute_result"
    }
   ],
   "source": [
    "# list comprehension\n",
    "# vc means view controller\n",
    "\n",
    "[@query vc.label for vc in [simul, iphone]]"
   ]
  },
  {
   "cell_type": "code",
   "execution_count": 9,
   "metadata": {
    "collapsed": false
   },
   "outputs": [
    {
     "data": {
      "text/markdown": [
       "&lt;UILabel: 0x7f91194408b0; frame = (10 100; 500 200); text = 'Greetings!'; opaque = NO; autoresize = RM+BM; userInteractionEnabled = NO; layer = &lt;_UILabelLayer: 0x7f9119440ba0&gt;&gt;<img src=\"images/0x7f91194408b0-QGbhoLglkT.png?r&#61;QGbhoLglkT\" alt=\"0x7f91194408b0\" style=\"width:250.0px; height: 100.0px;\" />&lt;UILabel: 0x157659840; frame = (10 100; 500 200); text = 'Hello World'; opaque = NO; autoresize = RM+BM; userInteractionEnabled = NO; layer = &lt;_UILabelLayer: 0x157659dd0&gt;&gt;<img src=\"images/0x157659840-V0fCvXFubJ.png?r&#61;V0fCvXFubJ\" alt=\"0x157659840\" style=\"width:250.0px; height: 100.0px;\" />"
      ],
      "text/plain": [
       "2-element Array{Swifter.QueryResult,1}:\n",
       " <UILabel: 0x7f91194408b0; frame = (10 100; 500 200); text = 'Greetings!'; opaque = NO; autoresize = RM+BM; userInteractionEnabled = NO; layer = <_UILabelLayer: 0x7f9119440ba0>>\n",
       " <UILabel: 0x157659840; frame = (10 100; 500 200); text = 'Hello World'; opaque = NO; autoresize = RM+BM; userInteractionEnabled = NO; layer = <_UILabelLayer: 0x157659dd0>>     "
      ]
     },
     "execution_count": 9,
     "metadata": {},
     "output_type": "execute_result"
    }
   ],
   "source": [
    "# change the background color of iphone\n",
    "# using simulator's one\n",
    "\n",
    "@query iphone.label.backgroundColor = simul.label.backgroundColor\n",
    "\n",
    "[@query vc.label for vc in [simul, iphone]]"
   ]
  },
  {
   "cell_type": "code",
   "execution_count": 10,
   "metadata": {
    "collapsed": false,
    "scrolled": true
   },
   "outputs": [
    {
     "data": {
      "text/markdown": [
       "&lt;UILabel: 0x7f91194408b0; frame = (10 100; 500 200); text = 'Greetings!'; opaque = NO; autoresize = RM+BM; userInteractionEnabled = NO; layer = &lt;_UILabelLayer: 0x7f9119440ba0&gt;&gt;<img src=\"images/0x7f91194408b0-7z3qFJXLWo.png?r&#61;7z3qFJXLWo\" alt=\"0x7f91194408b0\" style=\"width:250.0px; height: 100.0px;\" />&lt;UILabel: 0x157659840; frame = (10 100; 500 200); text = 'Hello World'; opaque = NO; autoresize = RM+BM; userInteractionEnabled = NO; layer = &lt;_UILabelLayer: 0x157659dd0&gt;&gt;<img src=\"images/0x157659840-3ftklU08iH.png?r&#61;3ftklU08iH\" alt=\"0x157659840\" style=\"width:250.0px; height: 100.0px;\" />"
      ],
      "text/plain": [
       "2-element Array{Swifter.QueryResult,1}:\n",
       " <UILabel: 0x7f91194408b0; frame = (10 100; 500 200); text = 'Greetings!'; opaque = NO; autoresize = RM+BM; userInteractionEnabled = NO; layer = <_UILabelLayer: 0x7f9119440ba0>>\n",
       " <UILabel: 0x157659840; frame = (10 100; 500 200); text = 'Hello World'; opaque = NO; autoresize = RM+BM; userInteractionEnabled = NO; layer = <_UILabelLayer: 0x157659dd0>>     "
      ]
     },
     "execution_count": 10,
     "metadata": {},
     "output_type": "execute_result"
    }
   ],
   "source": [
    "# change the background color\n",
    "# using for loop\n",
    "\n",
    "for vc in [simul, iphone]\n",
    "    @query vc.label.backgroundColor = UIColor.redColor()\n",
    "end\n",
    "\n",
    "[@query vc.label for vc in [simul, iphone]]"
   ]
  },
  {
   "cell_type": "code",
   "execution_count": 11,
   "metadata": {
    "collapsed": false
   },
   "outputs": [
    {
     "data": {
      "text/markdown": [
       "&lt;UILabel: 0x7f91194408b0; frame = (10 100; 500 200); text = 'Greetings!'; opaque = NO; autoresize = RM+BM; userInteractionEnabled = NO; layer = &lt;_UILabelLayer: 0x7f9119440ba0&gt;&gt;<img src=\"images/0x7f91194408b0-7Jy2Ff6sVz.png?r&#61;7Jy2Ff6sVz\" alt=\"0x7f91194408b0\" style=\"width:250.0px; height: 100.0px;\" />&lt;UILabel: 0x157659840; frame = (10 100; 500 200); text = 'Hello World'; opaque = NO; autoresize = RM+BM; userInteractionEnabled = NO; layer = &lt;_UILabelLayer: 0x157659dd0&gt;&gt;<img src=\"images/0x157659840-r25TiEZnEP.png?r&#61;r25TiEZnEP\" alt=\"0x157659840\" style=\"width:250.0px; height: 100.0px;\" />"
      ],
      "text/plain": [
       "2-element Array{Swifter.QueryResult,1}:\n",
       " <UILabel: 0x7f91194408b0; frame = (10 100; 500 200); text = 'Greetings!'; opaque = NO; autoresize = RM+BM; userInteractionEnabled = NO; layer = <_UILabelLayer: 0x7f9119440ba0>>\n",
       " <UILabel: 0x157659840; frame = (10 100; 500 200); text = 'Hello World'; opaque = NO; autoresize = RM+BM; userInteractionEnabled = NO; layer = <_UILabelLayer: 0x157659dd0>>     "
      ]
     },
     "execution_count": 11,
     "metadata": {},
     "output_type": "execute_result"
    }
   ],
   "source": [
    "# change the background color again\n",
    "\n",
    "@query simul.label.backgroundColor = UIColor.cyanColor()\n",
    "@query iphone.label.backgroundColor = UIColor.orangeColor()\n",
    "\n",
    "[@query vc.label for vc in [simul, iphone]]"
   ]
  },
  {
   "cell_type": "code",
   "execution_count": 12,
   "metadata": {
    "collapsed": false
   },
   "outputs": [
    {
     "data": {
      "text/markdown": [
       "&lt;UILabel: 0x7f91194408b0; frame = (10 100; 500 200); text = 'Greetings!'; opaque = NO; autoresize = RM+BM; userInteractionEnabled = NO; layer = &lt;_UILabelLayer: 0x7f9119440ba0&gt;&gt;<img src=\"images/0x7f91194408b0-hszuMEhKDk.png?r&#61;hszuMEhKDk\" alt=\"0x7f91194408b0\" style=\"width:250.0px; height: 100.0px;\" />&lt;UILabel: 0x157659840; frame = (10 100; 500 200); text = 'Hello World'; opaque = NO; autoresize = RM+BM; userInteractionEnabled = NO; layer = &lt;_UILabelLayer: 0x157659dd0&gt;&gt;<img src=\"images/0x157659840-e2ptVRHHls.png?r&#61;e2ptVRHHls\" alt=\"0x157659840\" style=\"width:250.0px; height: 100.0px;\" />"
      ],
      "text/plain": [
       "2-element Array{Swifter.QueryResult,1}:\n",
       " <UILabel: 0x7f91194408b0; frame = (10 100; 500 200); text = 'Greetings!'; opaque = NO; autoresize = RM+BM; userInteractionEnabled = NO; layer = <_UILabelLayer: 0x7f9119440ba0>>\n",
       " <UILabel: 0x157659840; frame = (10 100; 500 200); text = 'Hello World'; opaque = NO; autoresize = RM+BM; userInteractionEnabled = NO; layer = <_UILabelLayer: 0x157659dd0>>     "
      ]
     },
     "execution_count": 12,
     "metadata": {},
     "output_type": "execute_result"
    }
   ],
   "source": [
    "# map\n",
    "# change the background color using map\n",
    "\n",
    "map([simul, iphone]) do vc\n",
    "    @query vc.label.backgroundColor = UIColor.greenColor()\n",
    "    @query vc.label\n",
    "end"
   ]
  },
  {
   "cell_type": "code",
   "execution_count": null,
   "metadata": {
    "collapsed": true
   },
   "outputs": [],
   "source": [
    "# scripting"
   ]
  }
 ],
 "metadata": {
  "kernelspec": {
   "display_name": "Julia 0.4.6",
   "language": "julia",
   "name": "julia-0.4"
  },
  "language_info": {
   "file_extension": ".jl",
   "mimetype": "application/julia",
   "name": "julia",
   "version": "0.4.6"
  },
  "widgets": {
   "state": {},
   "version": "1.1.2"
  }
 },
 "nbformat": 4,
 "nbformat_minor": 0
}
